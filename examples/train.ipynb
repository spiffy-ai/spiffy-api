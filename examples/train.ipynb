{
 "cells": [
  {
   "cell_type": "code",
   "execution_count": 3,
   "metadata": {},
   "outputs": [],
   "source": [
    "import asyncio\n",
    "from datetime import datetime\n",
    "from IPython.display import display, clear_output\n",
    "import spiffy\n",
    "\n",
    "# Set the API key\n",
    "spiffy.api_key = \"YOUR_API_KEY\"  # get from http://dashboard.spiffy.ai/\n",
    "\n",
    "# Training data\n",
    "training_data = [\n",
    "    \"I love Spiffy!\",\n",
    "    \"Spiffy makes personalized language\\nmodels easy to build and deploy.\",\n",
    "    \"Personalized language models will power the future of AI.\",\n",
    "    \"Spiffy trains a specialized LLM for each user.\",\n",
    "    \"Spiffy's approach for personalization is more accurate and cheaper than retreival + prompting.\",\n",
    "    \"Spiffy's efficient inference is ~100x faster than GPT4 + pinecone.\",\n",
    "    \"Spiffy is a leading startup in the space of personalized LLMs.\",\n",
    "]\n",
    "\n",
    "# Specify the model_id\n",
    "model_id = \"api-example-model129\""
   ]
  },
  {
   "cell_type": "code",
   "execution_count": 4,
   "metadata": {},
   "outputs": [
    {
     "name": "stdout",
     "output_type": "stream",
     "text": [
      "2023-09-13 10:03:23.228937   model_id: api-example-model129\n"
     ]
    }
   ],
   "source": [
    "# Create a model\n",
    "model_id = await spiffy.acreate_model(model_id=model_id)\n",
    "print(f'{datetime.now()}   model_id: {model_id}')\n",
    "\n",
    "# Upload training data\n",
    "data_id = await spiffy.aupload_training_data(model_id, training_data)\n",
    "print(f'{datetime.now()}   data_id: {data_id}')\n",
    "\n",
    "# Train a model\n",
    "train_id = await spiffy.atrain(model_id)\n",
    "print(f'{datetime.now()}   train_id: {train_id}')"
   ]
  },
  {
   "cell_type": "code",
   "execution_count": 8,
   "metadata": {},
   "outputs": [],
   "source": [
    "# Check training status\n",
    "status = await spiffy.aget_train_status(train_id)\n",
    "print(f'{datetime.now()}   Training status: {status}')"
   ]
  },
  {
   "cell_type": "code",
   "execution_count": 5,
   "metadata": {},
   "outputs": [
    {
     "name": "stdout",
     "output_type": "stream",
     "text": [
      "2023-09-13 10:03:29.068911   Models ['v2'] are available for model_id: api-example-model129\n"
     ]
    }
   ],
   "source": [
    "# Check deployment status\n",
    "available_models = await spiffy.aget_available_user_models(model_id)\n",
    "print(f'{datetime.now()}   Models {available_models} are available for model_id: {model_id}')"
   ]
  },
  {
   "cell_type": "code",
   "execution_count": 7,
   "metadata": {},
   "outputs": [
    {
     "data": {
      "text/plain": [
       "\"Spiffy's efficient inference is ~100x faster than GPT4 + pinecone.</s>\""
      ]
     },
     "metadata": {},
     "output_type": "display_data"
    }
   ],
   "source": [
    "# Generate\n",
    "prompt = \"Spiffy's efficient inference is\"\n",
    "generated = prompt\n",
    "print(prompt)\n",
    "async for output in spiffy.agenerate(model_id, 'v2', prompt=prompt, generation_config={}):\n",
    "    generated += output[0]\n",
    "    clear_output(wait=True)\n",
    "    display(generated)"
   ]
  }
 ],
 "metadata": {
  "kernelspec": {
   "display_name": "Python 3",
   "language": "python",
   "name": "python3"
  },
  "language_info": {
   "codemirror_mode": {
    "name": "ipython",
    "version": 3
   },
   "file_extension": ".py",
   "mimetype": "text/x-python",
   "name": "python",
   "nbconvert_exporter": "python",
   "pygments_lexer": "ipython3",
   "version": "3.9.16"
  }
 },
 "nbformat": 4,
 "nbformat_minor": 4
}
